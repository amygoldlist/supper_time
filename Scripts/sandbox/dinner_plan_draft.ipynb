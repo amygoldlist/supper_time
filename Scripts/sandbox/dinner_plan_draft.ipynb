{
 "cells": [
  {
   "cell_type": "code",
   "execution_count": 1,
   "metadata": {},
   "outputs": [
    {
     "data": {
      "text/plain": [
       "'steak'"
      ]
     },
     "execution_count": 1,
     "metadata": {},
     "output_type": "execute_result"
    }
   ],
   "source": [
    "import random\n",
    "\n",
    "###method 1:  set up as a dictionary\n",
    "## method 2:  probably better?  set up as a class, with name as an atribute\n",
    "\n",
    "food_list = [\"spaghetti\", \"steak\", \"chicken\"]\n",
    "\n",
    "random.choice(food_list)"
   ]
  },
  {
   "cell_type": "code",
   "execution_count": 5,
   "metadata": {},
   "outputs": [
    {
     "data": {
      "text/plain": [
       "{}"
      ]
     },
     "execution_count": 5,
     "metadata": {},
     "output_type": "execute_result"
    }
   ],
   "source": [
    "food_dictionary = {}\n",
    "\n",
    "food_dictionary\n"
   ]
  },
  {
   "cell_type": "code",
   "execution_count": 17,
   "metadata": {
    "collapsed": true
   },
   "outputs": [],
   "source": [
    "##set up some items\n",
    "\n",
    "fish_stew = {\"name\" : \"fish stew\",\n",
    "    \"ingredients\":[\"fish\", \"white wine\", \"shrimp\", \"canned tomatoes\", \"garlic\"], \n",
    "            \"active_time\": 20}\n",
    "\n",
    "sausage = {\"name\" : \"sausage with rice and green veg\",\n",
    "    \"ingredients\":[\"sausage\", \"rice\", \"green veggie\"], \n",
    "            \"active_time\": 10, \"passive_time\": 40}\n",
    "\n",
    "pasta_meat = {\"name\" : \"Spaghetti with meat sauce\",\n",
    "    \"ingredients\":[\"ground beef\", \"canned tomatoes\", \"garlic\", \"onion\", \"tomato sauce\", \"tomato paste\", \"pasta\"], \n",
    "            \"active_time\": 20, \"passive_time\": 10}\n",
    "\n",
    "\n",
    "#fish_stew[\"ingredients\"]\n",
    "\n",
    "meal_list = {\"fish stew\":fish_stew, \n",
    "             \"sausage\": sausage,\n",
    "            \"pasta with meat sauce\":pasta_meat}\n"
   ]
  },
  {
   "cell_type": "code",
   "execution_count": 18,
   "metadata": {},
   "outputs": [
    {
     "data": {
      "text/plain": [
       "['sausage', 'rice', 'green veggie']"
      ]
     },
     "execution_count": 18,
     "metadata": {},
     "output_type": "execute_result"
    }
   ],
   "source": [
    "## show everything\n",
    "meal_list\n",
    "\n",
    "##ingredients for sausage\n",
    "meal_list[\"sausage\"][\"ingredients\"]"
   ]
  },
  {
   "cell_type": "code",
   "execution_count": 42,
   "metadata": {},
   "outputs": [
    {
     "data": {
      "text/plain": [
       "'fish stew'"
      ]
     },
     "execution_count": 42,
     "metadata": {},
     "output_type": "execute_result"
    }
   ],
   "source": [
    "## as a list\n",
    "list(meal_list.keys())\n",
    "\n",
    "##choose a random thing\n",
    "random.choice(list(meal_list.keys()))\n",
    "\n"
   ]
  },
  {
   "cell_type": "code",
   "execution_count": 13,
   "metadata": {},
   "outputs": [
    {
     "name": "stdout",
     "output_type": "stream",
     "text": [
      "Supper is Spaghetti with meat sauce\n",
      "Grocery List: ['ground beef', 'canned tomatoes', 'garlic', 'onion', 'tomato sauce', 'tomato paste', 'pasta']\n",
      "It will take 30 minutes but only 20 is active.\n"
     ]
    }
   ],
   "source": [
    "##random thing name\n",
    "supper = random.choice(list(meal_list.keys()))\n",
    "print(\"Supper is\", meal_list[supper][\"name\"])\n",
    "\n",
    "print(\"Grocery List:\", meal_list[supper][\"ingredients\"])\n",
    "\n",
    "print(\"It will take\", meal_list[supper][\"active_time\"]+ meal_list[supper][\"passive_time\"], \"minutes\", \"but only\",  \n",
    "      meal_list[supper][\"active_time\"], \"is active.\"  )"
   ]
  },
  {
   "cell_type": "code",
   "execution_count": 6,
   "metadata": {},
   "outputs": [
    {
     "data": {
      "text/plain": [
       "{'name': 'sausage with rice and green veg',\n",
       " 'ingredients': ['sausage', 'rice', 'green veggie'],\n",
       " 'active_time': 10,\n",
       " 'passive_time': 40}"
      ]
     },
     "execution_count": 6,
     "metadata": {},
     "output_type": "execute_result"
    }
   ],
   "source": [
    "meal_list[supper]"
   ]
  },
  {
   "cell_type": "code",
   "execution_count": null,
   "metadata": {
    "collapsed": true
   },
   "outputs": [],
   "source": []
  },
  {
   "cell_type": "code",
   "execution_count": null,
   "metadata": {
    "collapsed": true
   },
   "outputs": [],
   "source": []
  }
 ],
 "metadata": {
  "kernelspec": {
   "display_name": "Python 3",
   "language": "python",
   "name": "python3"
  },
  "language_info": {
   "codemirror_mode": {
    "name": "ipython",
    "version": 3
   },
   "file_extension": ".py",
   "mimetype": "text/x-python",
   "name": "python",
   "nbconvert_exporter": "python",
   "pygments_lexer": "ipython3",
   "version": "3.6.1"
  }
 },
 "nbformat": 4,
 "nbformat_minor": 2
}
