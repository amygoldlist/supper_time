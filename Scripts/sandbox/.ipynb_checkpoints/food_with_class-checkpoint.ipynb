{
 "cells": [
  {
   "cell_type": "code",
   "execution_count": 1,
   "metadata": {},
   "outputs": [
    {
     "data": {
      "text/plain": [
       "'steak'"
      ]
     },
     "execution_count": 1,
     "metadata": {},
     "output_type": "execute_result"
    }
   ],
   "source": [
    "import random\n",
    "\n",
    "###method 1:  set up as a dictionary\n",
    "## method 2:  probably better?  set up as a class, with name as an atribute\n",
    "\n",
    "food_list = [\"spaghetti\", \"steak\", \"chicken\"]\n",
    "\n",
    "random.choice(food_list)"
   ]
  },
  {
   "cell_type": "code",
   "execution_count": 46,
   "metadata": {},
   "outputs": [],
   "source": [
    "#### class structure\n",
    "\n",
    "class dinner:\n",
    "\n",
    "    def __init__(self, name, active_time = 20, passive_time = 0, ingredients = []):\n",
    "        \"\"\"\n",
    "        constructor of a dinner type\n",
    "        \"\"\"\n",
    "        self.name = name\n",
    "        self.active_time = active_time\n",
    "        self.passive_time = passive_time\n",
    "        self.ingredients = ingredients\n",
    "        self.time = active_time + passive_time\n",
    "     \n",
    " ## To add a new meal:\n",
    "## fun = dinner(\"sausage\", 30, 15)\n",
    "## to check out time:\n",
    "## fun.time\n",
    "\n",
    "    def add_ingredients (self, ingredient_list):\n",
    "        \"\"\"\n",
    "        Add to a list of ingredients to a dinner object\n",
    "        here, ingredients is a list\n",
    "        \"\"\"\n",
    "        self.ingredients = self.ingredients + ingredient_list \n",
    "\n",
    "    def set_ingredients (self, ingredient_list):\n",
    "        \"\"\"\n",
    "        Add a new list of ingredients to a dinner object\n",
    "        here, ingredients is a list\n",
    "        this will delete the previous ingredients\n",
    "        \"\"\"\n",
    "        self.ingredients = ingredient_list\n",
    "        \n",
    "\n",
    "        \n",
    "  "
   ]
  },
  {
   "cell_type": "code",
   "execution_count": 54,
   "metadata": {},
   "outputs": [
    {
     "ename": "TypeError",
     "evalue": "can only concatenate list (not \"str\") to list",
     "output_type": "error",
     "traceback": [
      "\u001b[1;31m---------------------------------------------------------------------------\u001b[0m",
      "\u001b[1;31mTypeError\u001b[0m                                 Traceback (most recent call last)",
      "\u001b[1;32m<ipython-input-54-ed3d081d78af>\u001b[0m in \u001b[0;36m<module>\u001b[1;34m()\u001b[0m\n\u001b[0;32m      4\u001b[0m \u001b[0mfun\u001b[0m\u001b[1;33m.\u001b[0m\u001b[0madd_ingredients\u001b[0m\u001b[1;33m(\u001b[0m\u001b[1;33m[\u001b[0m\u001b[1;34m\"candy\"\u001b[0m\u001b[1;33m]\u001b[0m\u001b[1;33m)\u001b[0m\u001b[1;33m\u001b[0m\u001b[0m\n\u001b[0;32m      5\u001b[0m \u001b[0mfun\u001b[0m\u001b[1;33m.\u001b[0m\u001b[0mset_ingredients\u001b[0m\u001b[1;33m(\u001b[0m\u001b[1;33m[\u001b[0m\u001b[1;34m\"mushrooms\"\u001b[0m\u001b[1;33m]\u001b[0m\u001b[1;33m)\u001b[0m\u001b[1;33m\u001b[0m\u001b[0m\n\u001b[1;32m----> 6\u001b[1;33m \u001b[0mfun\u001b[0m\u001b[1;33m.\u001b[0m\u001b[0madd_ingredients\u001b[0m\u001b[1;33m(\u001b[0m\u001b[1;34m\"gum\"\u001b[0m\u001b[1;33m)\u001b[0m\u001b[1;33m\u001b[0m\u001b[0m\n\u001b[0m\u001b[0;32m      7\u001b[0m \u001b[0mfun\u001b[0m\u001b[1;33m.\u001b[0m\u001b[0mingredients\u001b[0m\u001b[1;33m\u001b[0m\u001b[0m\n",
      "\u001b[1;32m<ipython-input-46-4234b6da3780>\u001b[0m in \u001b[0;36madd_ingredients\u001b[1;34m(self, ingredient_list)\u001b[0m\n\u001b[0;32m     23\u001b[0m         \u001b[0mhere\u001b[0m\u001b[1;33m,\u001b[0m \u001b[0mingredients\u001b[0m \u001b[1;32mis\u001b[0m \u001b[0ma\u001b[0m \u001b[0mlist\u001b[0m\u001b[1;33m\u001b[0m\u001b[0m\n\u001b[0;32m     24\u001b[0m         \"\"\"\n\u001b[1;32m---> 25\u001b[1;33m         \u001b[0mself\u001b[0m\u001b[1;33m.\u001b[0m\u001b[0mingredients\u001b[0m \u001b[1;33m=\u001b[0m \u001b[0mself\u001b[0m\u001b[1;33m.\u001b[0m\u001b[0mingredients\u001b[0m \u001b[1;33m+\u001b[0m \u001b[0mingredient_list\u001b[0m\u001b[1;33m\u001b[0m\u001b[0m\n\u001b[0m\u001b[0;32m     26\u001b[0m \u001b[1;33m\u001b[0m\u001b[0m\n\u001b[0;32m     27\u001b[0m     \u001b[1;32mdef\u001b[0m \u001b[0mset_ingredients\u001b[0m \u001b[1;33m(\u001b[0m\u001b[0mself\u001b[0m\u001b[1;33m,\u001b[0m \u001b[0mingredient_list\u001b[0m\u001b[1;33m)\u001b[0m\u001b[1;33m:\u001b[0m\u001b[1;33m\u001b[0m\u001b[0m\n",
      "\u001b[1;31mTypeError\u001b[0m: can only concatenate list (not \"str\") to list"
     ]
    }
   ],
   "source": [
    "fun = dinner(\"sausage\", 30,15)\n",
    "#fun.set_ingredients([\"sausage\", \"rice\", \"green veggie\"])\n",
    "fun.add_ingredients([\"sausage\", \"rice\", \"green veggie\"])\n",
    "fun.add_ingredients([\"candy\"])\n",
    "fun.set_ingredients([\"mushrooms\"])\n",
    "##fun.add_ingredients(\"gum\")\n",
    "fun.ingredients"
   ]
  },
  {
   "cell_type": "code",
   "execution_count": 45,
   "metadata": {},
   "outputs": [
    {
     "ename": "AttributeError",
     "evalue": "'dinner' object has no attribute 'add_ingredient'",
     "output_type": "error",
     "traceback": [
      "\u001b[1;31m---------------------------------------------------------------------------\u001b[0m",
      "\u001b[1;31mAttributeError\u001b[0m                            Traceback (most recent call last)",
      "\u001b[1;32m<ipython-input-45-704cbaa3cd04>\u001b[0m in \u001b[0;36m<module>\u001b[1;34m()\u001b[0m\n\u001b[0;32m      3\u001b[0m \u001b[0mfun\u001b[0m\u001b[1;33m.\u001b[0m\u001b[0mtime\u001b[0m\u001b[1;33m\u001b[0m\u001b[0m\n\u001b[0;32m      4\u001b[0m \u001b[0mfun\u001b[0m\u001b[1;33m.\u001b[0m\u001b[0mingredients\u001b[0m\u001b[1;33m\u001b[0m\u001b[0m\n\u001b[1;32m----> 5\u001b[1;33m \u001b[0mfun\u001b[0m\u001b[1;33m.\u001b[0m\u001b[0madd_ingredient\u001b[0m\u001b[1;33m(\u001b[0m\u001b[1;33m[\u001b[0m\u001b[1;34m\"candy\"\u001b[0m\u001b[1;33m]\u001b[0m\u001b[1;33m)\u001b[0m\u001b[1;33m\u001b[0m\u001b[0m\n\u001b[0m\u001b[0;32m      6\u001b[0m \u001b[0mfun\u001b[0m\u001b[1;33m.\u001b[0m\u001b[0mingredients\u001b[0m\u001b[1;33m\u001b[0m\u001b[0m\n\u001b[0;32m      7\u001b[0m \u001b[1;33m\u001b[0m\u001b[0m\n",
      "\u001b[1;31mAttributeError\u001b[0m: 'dinner' object has no attribute 'add_ingredient'"
     ]
    }
   ],
   "source": [
    "fun.active_time\n",
    "fun.passive_time\n",
    "fun.time\n",
    "fun.ingredients\n",
    "fun.add_ingredient([\"candy\"])\n",
    "fun.ingredients\n",
    "\n"
   ]
  },
  {
   "cell_type": "code",
   "execution_count": 56,
   "metadata": {},
   "outputs": [
    {
     "ename": "TypeError",
     "evalue": "unsupported operand type(s) for -: 'list' and 'list'",
     "output_type": "error",
     "traceback": [
      "\u001b[1;31m---------------------------------------------------------------------------\u001b[0m",
      "\u001b[1;31mTypeError\u001b[0m                                 Traceback (most recent call last)",
      "\u001b[1;32m<ipython-input-56-fe96503d4e40>\u001b[0m in \u001b[0;36m<module>\u001b[1;34m()\u001b[0m\n\u001b[1;32m----> 1\u001b[1;33m \u001b[1;33m[\u001b[0m\u001b[1;34m\"sausage\"\u001b[0m\u001b[1;33m,\u001b[0m \u001b[1;34m\"rice\"\u001b[0m\u001b[1;33m,\u001b[0m \u001b[1;34m\"green veggie\"\u001b[0m\u001b[1;33m,\u001b[0m \u001b[1;34m\"candy\"\u001b[0m\u001b[1;33m]\u001b[0m \u001b[1;33m-\u001b[0m \u001b[1;33m[\u001b[0m\u001b[1;34m\"candy\"\u001b[0m\u001b[1;33m]\u001b[0m\u001b[1;33m\u001b[0m\u001b[0m\n\u001b[0m",
      "\u001b[1;31mTypeError\u001b[0m: unsupported operand type(s) for -: 'list' and 'list'"
     ]
    }
   ],
   "source": [
    "[\"sausage\", \"rice\", \"green veggie\", \"candy\"] - [\"candy\"]"
   ]
  },
  {
   "cell_type": "code",
   "execution_count": 17,
   "metadata": {
    "collapsed": true
   },
   "outputs": [],
   "source": [
    "##set up some items\n",
    "\n",
    "fish_stew = {\"name\" : \"fish stew\",\n",
    "    \"ingredients\":[\"fish\", \"white wine\", \"shrimp\", \"canned tomatoes\", \"garlic\"], \n",
    "            \"active_time\": 20}\n",
    "\n",
    "sausage = {\"name\" : \"sausage with rice and green veg\",\n",
    "    \"ingredients\":[\"sausage\", \"rice\", \"green veggie\"], \n",
    "            \"active_time\": 10, \"passive_time\": 40}\n",
    "\n",
    "pasta_meat = {\"name\" : \"Spaghetti with meat sauce\",\n",
    "    \"ingredients\":[\"ground beef\", \"canned tomatoes\", \"garlic\", \"onion\", \"tomato sauce\", \"tomato paste\", \"pasta\"], \n",
    "            \"active_time\": 20, \"passive_time\": 10}\n",
    "\n",
    "\n",
    "#fish_stew[\"ingredients\"]\n",
    "\n",
    "meal_list = {\"fish stew\":fish_stew, \n",
    "             \"sausage\": sausage,\n",
    "            \"pasta with meat sauce\":pasta_meat}\n"
   ]
  },
  {
   "cell_type": "code",
   "execution_count": 18,
   "metadata": {},
   "outputs": [
    {
     "data": {
      "text/plain": [
       "['sausage', 'rice', 'green veggie']"
      ]
     },
     "execution_count": 18,
     "metadata": {},
     "output_type": "execute_result"
    }
   ],
   "source": [
    "## show everything\n",
    "meal_list\n",
    "\n",
    "##ingredients for sausage\n",
    "meal_list[\"sausage\"][\"ingredients\"]"
   ]
  },
  {
   "cell_type": "code",
   "execution_count": 42,
   "metadata": {},
   "outputs": [
    {
     "data": {
      "text/plain": [
       "'fish stew'"
      ]
     },
     "execution_count": 42,
     "metadata": {},
     "output_type": "execute_result"
    }
   ],
   "source": [
    "## as a list\n",
    "list(meal_list.keys())\n",
    "\n",
    "##choose a random thing\n",
    "random.choice(list(meal_list.keys()))\n",
    "\n"
   ]
  },
  {
   "cell_type": "code",
   "execution_count": 13,
   "metadata": {},
   "outputs": [
    {
     "name": "stdout",
     "output_type": "stream",
     "text": [
      "Supper is Spaghetti with meat sauce\n",
      "Grocery List: ['ground beef', 'canned tomatoes', 'garlic', 'onion', 'tomato sauce', 'tomato paste', 'pasta']\n",
      "It will take 30 minutes but only 20 is active.\n"
     ]
    }
   ],
   "source": [
    "##random thing name\n",
    "supper = random.choice(list(meal_list.keys()))\n",
    "print(\"Supper is\", meal_list[supper][\"name\"])\n",
    "\n",
    "print(\"Grocery List:\", meal_list[supper][\"ingredients\"])\n",
    "\n",
    "print(\"It will take\", meal_list[supper][\"active_time\"]+ meal_list[supper][\"passive_time\"], \"minutes\", \"but only\",  \n",
    "      meal_list[supper][\"active_time\"], \"is active.\"  )"
   ]
  },
  {
   "cell_type": "code",
   "execution_count": 6,
   "metadata": {},
   "outputs": [
    {
     "data": {
      "text/plain": [
       "{'name': 'sausage with rice and green veg',\n",
       " 'ingredients': ['sausage', 'rice', 'green veggie'],\n",
       " 'active_time': 10,\n",
       " 'passive_time': 40}"
      ]
     },
     "execution_count": 6,
     "metadata": {},
     "output_type": "execute_result"
    }
   ],
   "source": [
    "meal_list[supper]"
   ]
  },
  {
   "cell_type": "code",
   "execution_count": null,
   "metadata": {
    "collapsed": true
   },
   "outputs": [],
   "source": []
  },
  {
   "cell_type": "code",
   "execution_count": null,
   "metadata": {
    "collapsed": true
   },
   "outputs": [],
   "source": []
  }
 ],
 "metadata": {
  "kernelspec": {
   "display_name": "Python 3",
   "language": "python",
   "name": "python3"
  },
  "language_info": {
   "codemirror_mode": {
    "name": "ipython",
    "version": 3
   },
   "file_extension": ".py",
   "mimetype": "text/x-python",
   "name": "python",
   "nbconvert_exporter": "python",
   "pygments_lexer": "ipython3",
   "version": "3.6.1"
  }
 },
 "nbformat": 4,
 "nbformat_minor": 2
}
