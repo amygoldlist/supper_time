{
 "cells": [
  {
   "cell_type": "code",
   "execution_count": 1,
   "id": "e7d99d08",
   "metadata": {},
   "outputs": [
    {
     "name": "stdout",
     "output_type": "stream",
     "text": [
      "John john@example.com\n",
      "Jane jane@example.com\n"
     ]
    }
   ],
   "source": [
    "contacts = {\n",
    "    \"John\": {\"email\": \"john@example.com\", \"phone\": \"123-456\"},\n",
    "    \"Jane\": {\"email\": \"jane@example.com\", \"phone\": \"789-012\"}\n",
    "}\n",
    "for name, info in contacts.items():\n",
    "    print(name, info[\"email\"])"
   ]
  },
  {
   "cell_type": "code",
   "execution_count": 2,
   "id": "5f8074e9",
   "metadata": {},
   "outputs": [],
   "source": [
    "data = {\n",
    "    \"users\": {\n",
    "        \"Alice\": {\"age\": 25, \"city\": \"New York\"},\n",
    "        \"Bob\": {\"age\": 30, \"city\": \"San Francisco\"}\n",
    "    }\n",
    "}\n",
    "data[\"users\"][\"Charlie\"] = {\"age\": 28, \"city\": \"Chicago\"}"
   ]
  },
  {
   "cell_type": "code",
   "execution_count": 8,
   "id": "c927b88b",
   "metadata": {},
   "outputs": [
    {
     "data": {
      "text/plain": [
       "{'Alice': {'age': 25, 'city': 'New York'},\n",
       " 'Bob': {'age': 30, 'city': 'San Francisco'},\n",
       " 'Charlie': {'age': 28, 'city': 'Chicago'}}"
      ]
     },
     "execution_count": 8,
     "metadata": {},
     "output_type": "execute_result"
    }
   ],
   "source": [
    "data['users']"
   ]
  },
  {
   "cell_type": "code",
   "execution_count": null,
   "id": "53a1c5ab",
   "metadata": {},
   "outputs": [],
   "source": []
  }
 ],
 "metadata": {
  "kernelspec": {
   "display_name": "Python 3 (ipykernel)",
   "language": "python",
   "name": "python3"
  },
  "language_info": {
   "codemirror_mode": {
    "name": "ipython",
    "version": 3
   },
   "file_extension": ".py",
   "mimetype": "text/x-python",
   "name": "python",
   "nbconvert_exporter": "python",
   "pygments_lexer": "ipython3",
   "version": "3.9.13"
  }
 },
 "nbformat": 4,
 "nbformat_minor": 5
}
