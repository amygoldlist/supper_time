{
 "cells": [
  {
   "cell_type": "markdown",
   "id": "93a871e4",
   "metadata": {},
   "source": [
    "## Scraping from Documents\n",
    "\n",
    "Amy Goldlis, 2025\n",
    "(adapted from R)"
   ]
  },
  {
   "cell_type": "code",
   "execution_count": 1,
   "id": "2be81c94-afe0-485a-8f86-6ee36a4619fd",
   "metadata": {},
   "outputs": [],
   "source": [
    "#!pip install docx\n",
    "from docx import Document\n",
    "import re\n",
    "import os\n",
    "import random\n"
   ]
  },
  {
   "cell_type": "markdown",
   "id": "960a9cc1-c871-47db-a259-bdc5feaee3a7",
   "metadata": {},
   "source": [
    "## Class\n",
    "\n",
    "Let's pull in some recipes:"
   ]
  },
  {
   "cell_type": "code",
   "execution_count": 2,
   "id": "66e1f46c-df4a-4faa-8632-60628d931453",
   "metadata": {},
   "outputs": [],
   "source": [
    "def read_mom_word_doc(filename):\n",
    "    \"\"\"\n",
    "    This is a very specific script to extract info from my mom's collection of Word docs.\n",
    "    Luckily, my mom is super organized, so extrcacting the data is not too terrible\n",
    "    \"\"\"\n",
    "    # Open the .docx file\n",
    "    doc = Document(filename)\n",
    "    text = \"\\n\".join([para.text.strip() for para in doc.paragraphs if para.text.strip()])\n",
    "    \n",
    "    # Split lines and remove empty ones\n",
    "    recipe_list = [line.strip() for line in text.split(\"\\n\") if line.strip()]\n",
    "    \n",
    "    recipe_name = recipe_list[0]\n",
    "    recipe_subtitle = \"\" if recipe_list[1] == \"Ingredients\" else recipe_list[1]\n",
    "    \n",
    "    # Identify section indices\n",
    "    indices = {\n",
    "        \"Ingredients\": next((i for i, line in enumerate(recipe_list) if \"Ingredients\" in line), None),\n",
    "        \"Method\": next((i for i, line in enumerate(recipe_list) if \"Method\" in line), None),\n",
    "        \"Variations\": next((i for i, line in enumerate(recipe_list) if \"Variations:\" in line), len(recipe_list)),\n",
    "        \"Nutritional Information\": next((i for i, line in enumerate(recipe_list) if \"Nutritional Information:\" in line), len(recipe_list)),\n",
    "        \"Source\": next((i for i, line in enumerate(recipe_list) if \"Source:\" in line), len(recipe_list)),\n",
    "        \"Notes\": next((i for i, line in enumerate(recipe_list) if \"Notes:\" in line), len(recipe_list))\n",
    "    }\n",
    "    \n",
    "    # Extract ingredients\n",
    "    ingredients = recipe_list[indices[\"Ingredients\"]+1:indices[\"Method\"]] if indices[\"Ingredients\"] else []\n",
    "    \n",
    "    # Extract method\n",
    "    method = recipe_list[indices[\"Method\"]+1:indices[\"Variations\"]] if indices[\"Method\"] else []\n",
    "    \n",
    "    # Create a structured dictionary\n",
    "    new_recipe = {\n",
    "        \"recipe_name\": recipe_name,\n",
    "        \"subtitle\": recipe_subtitle,\n",
    "        \"ingredients\": ingredients,\n",
    "        \"method\": method\n",
    "    }\n",
    "    \n",
    "    return new_recipe\n",
    "\n"
   ]
  },
  {
   "cell_type": "code",
   "execution_count": 3,
   "id": "4baa0be1-625c-4dc8-bc44-02c8176604ae",
   "metadata": {},
   "outputs": [
    {
     "name": "stdout",
     "output_type": "stream",
     "text": [
      "{'recipe_name': 'Pancakes for Twins', 'subtitle': 'AKA:  Pancakes', 'ingredients': ['1½ cups flour', '1½ tsp. baking powder', '¼ - ½ tsp. salt', '1½ cups milk', '3 tbsp melted butter', '2 large eggs', '3 tbsp maple syrup', '½ tsp. vanilla'], 'method': ['Mix dry ingredients', 'Quickly add wet ingredients, gently stir together just until combined with lumps left', 'Pour onto preheated buttered pan, flip when bubbles form, ready when other side is golden brown', 'Serve to two hungry boys – no syrup necessary. Also surprisingly yummy cold from the fridge as a snack.']}\n"
     ]
    }
   ],
   "source": [
    "# Example usage:\n",
    "pancake_recipe = read_mom_word_doc(\"../Recipes/Pancakes.docx\")\n",
    "saffron_chicken = read_mom_word_doc(\"../Recipes/Saffron Chicken.docx\")\n",
    "print(pancake_recipe)"
   ]
  },
  {
   "cell_type": "code",
   "execution_count": 4,
   "id": "75ca03a0-f429-458e-b259-180ec1084e93",
   "metadata": {},
   "outputs": [
    {
     "data": {
      "text/plain": [
       "'Pancakes for Twins'"
      ]
     },
     "execution_count": 4,
     "metadata": {},
     "output_type": "execute_result"
    }
   ],
   "source": [
    "pancake_recipe['recipe_name']"
   ]
  },
  {
   "cell_type": "code",
   "execution_count": 5,
   "id": "8ee41695",
   "metadata": {},
   "outputs": [
    {
     "data": {
      "text/plain": [
       "['16 Chicken wings (or 8-10 Thighs/Drumsticks)',\n",
       " 'Salt / Pepper',\n",
       " 'Olive Oil',\n",
       " '2 Tbsp Butter',\n",
       " '1 Large Onion (diced)',\n",
       " '3 Cloves Garlic (minced)',\n",
       " '2 Tsp Fresh Ginger (minced) or 1 Tsp powdered',\n",
       " '½ Tsp Paprika',\n",
       " '¼ Tsp Black Pepper (or Cayenne if you want more “zing”)',\n",
       " '1 Tsp Powdered Chicken Stock (or 1 Maggi Cube)',\n",
       " '2 Tbsp Flour',\n",
       " '¼ Tsp Saffron (Get the good stuff straight from Iran)',\n",
       " '2 Cups Chicken Broth',\n",
       " '3 Tbsp Fresh Parsley or 3 Tsp dried']"
      ]
     },
     "execution_count": 5,
     "metadata": {},
     "output_type": "execute_result"
    }
   ],
   "source": [
    "\n",
    "saffron_chicken['ingredients']"
   ]
  },
  {
   "cell_type": "code",
   "execution_count": null,
   "id": "ac03130b",
   "metadata": {},
   "outputs": [],
   "source": []
  }
 ],
 "metadata": {
  "kernelspec": {
   "display_name": "Python 3 (ipykernel)",
   "language": "python",
   "name": "python3"
  },
  "language_info": {
   "codemirror_mode": {
    "name": "ipython",
    "version": 3
   },
   "file_extension": ".py",
   "mimetype": "text/x-python",
   "name": "python",
   "nbconvert_exporter": "python",
   "pygments_lexer": "ipython3",
   "version": "3.9.13"
  }
 },
 "nbformat": 4,
 "nbformat_minor": 5
}
